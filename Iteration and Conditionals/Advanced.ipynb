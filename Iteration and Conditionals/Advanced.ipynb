{
  "nbformat": 4,
  "nbformat_minor": 0,
  "metadata": {
    "colab": {
      "provenance": []
    },
    "kernelspec": {
      "name": "python3",
      "display_name": "Python 3"
    },
    "language_info": {
      "name": "python"
    }
  },
  "cells": [
    {
      "cell_type": "code",
      "execution_count": null,
      "metadata": {
        "id": "nmqEQlESJkSl"
      },
      "outputs": [],
      "source": [
        "#Task1\n",
        "N=int(input((\"Enter array size: \")))\n",
        "list=[0]*N\n",
        "\n",
        "for i in range(0,N):\n",
        "    num=int(input(\"Enter the numbers\"))\n",
        "    list[i]=num\n",
        "\n",
        "newnum=int(input((\"Enter new number \")))\n",
        "\n",
        "newarray=[0]*(N+1)\n",
        "for i in range(0,N):\n",
        "    newarray[i]=list[i]\n",
        "\n",
        "newarray[-1]=newnum\n",
        "print(newarray)\n",
        "\n",
        "\n"
      ]
    },
    {
      "cell_type": "code",
      "source": [
        "#Task2\n",
        "N=int(input((\"Enter array size: \")))\n",
        "list=[0]*N\n",
        "for i in range(0,N):\n",
        "    num=int(input(\"Enter the numbers\"))\n",
        "    list[i]=num\n",
        "\n",
        "print(list)\n",
        "\n",
        "for i in range(0,N):\n",
        "  if list[i]<0:\n",
        "    list[i]=0\n",
        "  else:\n",
        "    list[i]=1\n",
        "\n",
        "print(list)"
      ],
      "metadata": {
        "colab": {
          "base_uri": "https://localhost:8080/"
        },
        "id": "YIwOB_25JlMB",
        "outputId": "02aa2cd1-c1fb-40d2-c537-d613afa649c1"
      },
      "execution_count": null,
      "outputs": [
        {
          "output_type": "stream",
          "name": "stdout",
          "text": [
            "Enter array size: 4\n",
            "Enter the numbers4\n",
            "Enter the numbers3\n",
            "Enter the numbers-2\n",
            "Enter the numbers1\n",
            "[4, 3, -2, 1]\n",
            "[1, 1, 0, 1]\n"
          ]
        }
      ]
    },
    {
      "cell_type": "code",
      "source": [
        "#task3\n",
        "import numpy as np\n",
        "\n",
        "def reverseArray(arr1):\n",
        "\n",
        "    start = 0\n",
        "    end = len(arr1)-1\n",
        "\n",
        "    while end > start:\n",
        "        arr1[start],arr1[end] = arr1[end],arr1[start]\n",
        "        start = start + 1\n",
        "        end = end -1\n",
        "\n",
        "    return arr1\n",
        "arr1 = np.array([10, 12, 20, 5, 7])\n",
        "print(arr1)\n",
        "arr1 = reverseArray(arr1)\n",
        "print(arr1)"
      ],
      "metadata": {
        "id": "QtMYnV5UJlHC",
        "colab": {
          "base_uri": "https://localhost:8080/"
        },
        "outputId": "c1412615-415c-4dc1-d55d-dd691f1fedec"
      },
      "execution_count": 2,
      "outputs": [
        {
          "output_type": "stream",
          "name": "stdout",
          "text": [
            "[10 12 20  5  7]\n",
            "[ 7  5 20 12 10]\n"
          ]
        }
      ]
    },
    {
      "cell_type": "code",
      "source": [
        "#Task 4\n",
        "def printPairs(arr1, sum):\n",
        "    pair= False\n",
        "    for i in range(len(arr1)):\n",
        "        for j in range(i + 1, len(arr1)):\n",
        "            if arr1[i]+arr1[j]== sum:\n",
        "                print(arr1[i],arr1[j])\n",
        "                pair = True\n",
        "    if pair==False:\n",
        "        print(\"No Pair Found\")\n",
        "arr1 = np.array([7,8,10,5,3,4,2])\n",
        "printPairs(arr1, 15)\n",
        "\n"
      ],
      "metadata": {
        "id": "3WPC0-EtJlEx",
        "colab": {
          "base_uri": "https://localhost:8080/"
        },
        "outputId": "9c5dd40f-e68a-418a-ec8f-29fbb607a449"
      },
      "execution_count": null,
      "outputs": [
        {
          "output_type": "stream",
          "name": "stdout",
          "text": [
            "7 8\n",
            "10 5\n"
          ]
        }
      ]
    },
    {
      "cell_type": "code",
      "source": [
        "#Task5\n",
        "vec1 = np.array([1,2,3])\n",
        "vec2 = np.array([4,5,6])\n",
        "dot=0\n",
        "for i in range(0,len(vec1)):\n",
        "  dot+=vec1[i]*vec2[i]\n",
        "print(\"Dot product:\",dot)\n",
        "\n",
        "if dot%2==0:\n",
        "  print(\"After Swapping:\")\n",
        "  for i in range(0,len(vec1),2):\n",
        "    vec1[i],vec2[i] = vec2[i],vec1[i]\n",
        "  print(vec1)\n",
        "  print(vec2)\n",
        "\n",
        "else:\n",
        "  for i in range(1,len(vec1),2):\n",
        "    vec1[i],vec2[i] = vec2[i],vec1[i]\n",
        "  print(vec1)\n",
        "  print(vec2)\n",
        "\n",
        "\n",
        "\n"
      ],
      "metadata": {
        "id": "HkJTWCNCJlCb",
        "colab": {
          "base_uri": "https://localhost:8080/"
        },
        "outputId": "7ef27139-c63f-4927-b3a3-c4087c535461"
      },
      "execution_count": null,
      "outputs": [
        {
          "output_type": "stream",
          "name": "stdout",
          "text": [
            "Dot product: 32\n",
            "After Swapping:\n",
            "[4 2 6]\n",
            "[1 5 3]\n"
          ]
        }
      ]
    },
    {
      "cell_type": "code",
      "source": [
        "#Task6\n",
        "N=int(input((\"Enter array size: \")))\n",
        "list=[0]*N\n",
        "\n",
        "for i in range(0,N):\n",
        "    num=int(input(\"Enter the numbers\"))\n",
        "    list[i]=num\n",
        "\n",
        "\n",
        "def sort(list):\n",
        "  for i in range(len(list)):\n",
        "    min=i\n",
        "    for j in range(i+1,len(list)):\n",
        "      if list[j]<list[min]:\n",
        "        min=j\n",
        "    list[i], list[min]=list[min], list[i]\n",
        "  print(list)\n",
        "sort(list)"
      ],
      "metadata": {
        "id": "3fcLs4GfJk-C",
        "colab": {
          "base_uri": "https://localhost:8080/"
        },
        "outputId": "178e8831-db05-4ad1-d890-74dd12beb519"
      },
      "execution_count": null,
      "outputs": [
        {
          "output_type": "stream",
          "name": "stdout",
          "text": [
            "Enter array size: 6\n",
            "Enter the numbers3\n",
            "Enter the numbers2\n",
            "Enter the numbers5\n",
            "Enter the numbers7\n",
            "Enter the numbers1\n",
            "Enter the numbers8\n",
            "[1, 2, 3, 5, 7, 8]\n"
          ]
        }
      ]
    },
    {
      "cell_type": "code",
      "source": [
        "#Task7\n",
        "def flatten(arr):\n",
        "    return arr.flatten()\n",
        "\n",
        "arr1 = np.array([[1, 2, 3], [3, 4, 5]])\n",
        "arr2 = flatten(arr1)\n",
        "print(arr2)\n",
        "\n",
        "arr3 = np.array( [ [1, 4],[5, 6],[8, 9] ] )\n",
        "arr4 = flatten(arr3)\n",
        "print(arr4)"
      ],
      "metadata": {
        "colab": {
          "base_uri": "https://localhost:8080/"
        },
        "id": "8DvgsOxfnbIh",
        "outputId": "d22663a9-e2c9-4b1e-9536-96e543dd186c"
      },
      "execution_count": null,
      "outputs": [
        {
          "output_type": "stream",
          "name": "stdout",
          "text": [
            "[1 2 3 3 4 5]\n",
            "[1 4 5 6 8 9]\n"
          ]
        }
      ]
    },
    {
      "cell_type": "code",
      "source": [
        "#Task8\n",
        "def is_identity(matrix):\n",
        "    n, m = matrix.shape\n",
        "    if n!=m:\n",
        "        return \"Not an Identity Matrix\"\n",
        "    for i in range(0,n):\n",
        "        for j in range(0,m):\n",
        "            if i==j and matrix[i,j] == 0:\n",
        "                return \"Not an Identity Matrix\"\n",
        "            elif i!=j and matrix[i, j] == 1:\n",
        "                return \"Not an Identity Matrix\"\n",
        "    return \"Identity Matrix\"\n",
        "\n",
        "\n",
        "A = np.array([ [1, 0, 0],\n",
        "[0, 1, 0],\n",
        "[0, 0, 1] ])\n",
        "\n",
        "A=is_identity(A)\n",
        "print(A)\n",
        "\n",
        "A = np.array([ [1, 0, 0, 1],\n",
        "[0, 1, 0, 0],\n",
        "[1, 0, 1, 0],\n",
        "[0, 1, 0, 1] ])\n",
        "A=is_identity(A)\n",
        "print(A)"
      ],
      "metadata": {
        "id": "hgzpNBdSJk7y",
        "colab": {
          "base_uri": "https://localhost:8080/"
        },
        "outputId": "1bfad744-00f6-4f0c-ffd9-ab4cbe86ef3e"
      },
      "execution_count": 15,
      "outputs": [
        {
          "output_type": "stream",
          "name": "stdout",
          "text": [
            "Identity Matrix\n",
            "Not an Identity Matrix\n"
          ]
        }
      ]
    },
    {
      "cell_type": "code",
      "source": [
        "#Task9\n",
        "A = np.array([ [1, 5, 12, 1],\n",
        "[2, -4, 6, 7],\n",
        "[3, 8, 5, 9],\n",
        "[3, 5, 23, -6] ])\n",
        "\n",
        "diagon1=0\n",
        "diagon2=0\n",
        "n,m = A.shape\n",
        "\n",
        "for i in range(0,n):\n",
        "  for j in range(0,m):\n",
        "    if i==j:\n",
        "      diagon1=diagon1+A[i,j]\n",
        "    if i + j == n - 1:\n",
        "      diagon2 += A[i, j]\n",
        "\n",
        "\n",
        "\n",
        "result=abs(diagon1-diagon2)\n",
        "print(result)"
      ],
      "metadata": {
        "colab": {
          "base_uri": "https://localhost:8080/"
        },
        "id": "fi9ezUSfKvXm",
        "outputId": "a351c44e-de7a-4fac-cc5d-6a7f302adb3e"
      },
      "execution_count": 22,
      "outputs": [
        {
          "output_type": "stream",
          "name": "stdout",
          "text": [
            "22\n"
          ]
        }
      ]
    },
    {
      "cell_type": "code",
      "source": [
        "#Task10.1\n",
        "A = np.array([[1, 2, 3],\n",
        " [4, 5, 6],\n",
        "  [7, 8, 9]])\n",
        "\n",
        "transpose= [[0 for i in range(n)] for j in range(m)]\n",
        "\n",
        "\n",
        "n,m = A.shape\n",
        "\n",
        "for i in range(0,n):\n",
        "  for j in range(0,m):\n",
        "    transpose[i][j]=A[j][i]\n",
        "print(transpose)\n",
        "\n",
        "\n",
        "\n"
      ],
      "metadata": {
        "colab": {
          "base_uri": "https://localhost:8080/"
        },
        "id": "Y64oUkDzN6JW",
        "outputId": "0fa06a6e-c1ab-4b3d-c51e-fda33f866276"
      },
      "execution_count": 27,
      "outputs": [
        {
          "output_type": "stream",
          "name": "stdout",
          "text": [
            "[[1, 4, 7], [2, 5, 8], [3, 6, 9]]\n"
          ]
        }
      ]
    },
    {
      "cell_type": "code",
      "source": [
        "#Task10.2\n",
        "\n",
        "result = np.dot(transpose, A)\n",
        "print(result)\n"
      ],
      "metadata": {
        "colab": {
          "base_uri": "https://localhost:8080/"
        },
        "id": "675t8s8uP1I-",
        "outputId": "aa23604b-9574-4745-e47a-39cbee7efe93"
      },
      "execution_count": 34,
      "outputs": [
        {
          "output_type": "stream",
          "name": "stdout",
          "text": [
            "[[ 66  78  90]\n",
            " [ 78  93 108]\n",
            " [ 90 108 126]]\n"
          ]
        }
      ]
    },
    {
      "cell_type": "code",
      "source": [
        "#task11\n",
        "\n",
        "def process_array(arr):\n",
        "    avg=0\n",
        "    m, n = arr.shape\n",
        "    absolute = abs(m-n)\n",
        "    remainder= absolute%m\n",
        "    for i in arr[remainder]:\n",
        "      avg+=i\n",
        "    avg=avg/n\n",
        "    avg=round(avg, 2)\n",
        "    return arr*avg\n",
        "A = np.array([[4, 1, 2], [9, 3, 7]])\n",
        "result = process_array(A)\n",
        "print(result)\n"
      ],
      "metadata": {
        "colab": {
          "base_uri": "https://localhost:8080/"
        },
        "id": "4ZapGaeqP1G1",
        "outputId": "b4f93c1e-043d-4ef4-bcde-4693b841da53"
      },
      "execution_count": 45,
      "outputs": [
        {
          "output_type": "stream",
          "name": "stdout",
          "text": [
            "[[25.32  6.33 12.66]\n",
            " [56.97 18.99 44.31]]\n"
          ]
        }
      ]
    },
    {
      "cell_type": "code",
      "source": [],
      "metadata": {
        "id": "SS8HYa9iP1Em"
      },
      "execution_count": null,
      "outputs": []
    }
  ]
}