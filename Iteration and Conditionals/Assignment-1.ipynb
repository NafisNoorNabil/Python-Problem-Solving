{
 "cells": [
  {
   "cell_type": "code",
   "execution_count": 1,
   "metadata": {},
   "outputs": [
    {
     "name": "stdout",
     "output_type": "stream",
     "text": [
      "3\n",
      "5\n",
      "6\n",
      "9\n",
      "10\n",
      "12\n",
      "15\n",
      "18\n",
      "20\n",
      "21\n",
      "24\n",
      "25\n",
      "27\n",
      "30\n"
     ]
    }
   ],
   "source": [
    "#easy task 1\n",
    "x=1\n",
    "while x<=30:\n",
    "    if x%5==0 or x%3==0:\n",
    "        print(x)\n",
    "    x+=1"
   ]
  },
  {
   "cell_type": "code",
   "execution_count": 2,
   "metadata": {},
   "outputs": [
    {
     "name": "stdout",
     "output_type": "stream",
     "text": [
      "enter a number123\n",
      "enter a number123\n",
      "enter a number124\n",
      "max 124\n"
     ]
    }
   ],
   "source": [
    "#easy task 2\n",
    "x=int(input(\"enter a number\"))\n",
    "y=int(input(\"enter a number\"))\n",
    "z=int(input(\"enter a number\"))\n",
    "if x>y:\n",
    "    if x>z:\n",
    "        print(\"max\",x)\n",
    "elif y>z:\n",
    "    print(\"max\",y)\n",
    "else:\n",
    "    print(\"max\",z)\n",
    "    "
   ]
  },
  {
   "cell_type": "markdown",
   "metadata": {},
   "source": [
    " "
   ]
  },
  {
   "cell_type": "code",
   "execution_count": 3,
   "metadata": {},
   "outputs": [
    {
     "name": "stdout",
     "output_type": "stream",
     "text": [
      "enter mark50\n",
      "D-\n"
     ]
    }
   ],
   "source": [
    "#easy task 3\n",
    "mark=int(input(\"enter mark\"))\n",
    "if mark>=90:\n",
    "    print(\"A\")\n",
    "elif mark>=85:\n",
    "    print(\"A-\")\n",
    "elif mark>=80:\n",
    "    print(\"B+\")\n",
    "elif mark>=75:\n",
    "    print(\"B\")\n",
    "elif mark>=70:\n",
    "    print(\"B-\")\n",
    "elif mark>=65:\n",
    "    print(\"C+\")\n",
    "elif mark>=60:\n",
    "    print(\"C\")\n",
    "elif mark>=57:\n",
    "    print(\"C-\")\n",
    "elif mark>=55:\n",
    "    print(\"D+\")\n",
    "elif mark>=52:\n",
    "    print(\"D\")\n",
    "elif mark>=50:\n",
    "    print(\"D-\")\n",
    "else:\n",
    "    print(\"F\")"
   ]
  },
  {
   "cell_type": "code",
   "execution_count": 4,
   "metadata": {},
   "outputs": [
    {
     "name": "stdout",
     "output_type": "stream",
     "text": [
      "Enter a number5\n",
      "prime\n"
     ]
    }
   ],
   "source": [
    "#easy task 4\n",
    "num=int(input(\"Enter a number\"))\n",
    "count=1\n",
    "divcount=0\n",
    "while count<=num:\n",
    "    if num%count==0:\n",
    "        divcount+=1\n",
    "    count+=1        \n",
    "if divcount==2:\n",
    "    print(\"prime\")\n",
    "else:\n",
    "    print(\"not prime\")"
   ]
  },
  {
   "cell_type": "code",
   "execution_count": 5,
   "metadata": {},
   "outputs": [
    {
     "name": "stdout",
     "output_type": "stream",
     "text": [
      "enter a number412\n",
      "0\n",
      "1\n",
      "1\n",
      "2\n",
      "3\n",
      "5\n",
      "8\n",
      "13\n",
      "21\n",
      "34\n",
      "55\n",
      "89\n",
      "144\n",
      "233\n",
      "377\n"
     ]
    }
   ],
   "source": [
    "#medium 1\n",
    "num=int(input(\"enter a number\"))\n",
    "sum=0\n",
    "num1=0\n",
    "num2=1\n",
    "while sum<num:\n",
    "    sum=sum+num1\n",
    "    if sum>num:\n",
    "        break\n",
    "    print(sum)\n",
    "    num1=num2\n",
    "    num2=sum"
   ]
  },
  {
   "cell_type": "code",
   "execution_count": 6,
   "metadata": {},
   "outputs": [
    {
     "name": "stdout",
     "output_type": "stream",
     "text": [
      "Enter number14325\n",
      "52341\n"
     ]
    }
   ],
   "source": [
    "#medium 2\n",
    "x=int(input(\"Enter number\"))\n",
    "num=0\n",
    "while(x>0):\n",
    "    reminder=x%10\n",
    "    num=(num*10)+reminder\n",
    "    x=x//10\n",
    "print(num)"
   ]
  },
  {
   "cell_type": "code",
   "execution_count": 7,
   "metadata": {},
   "outputs": [
    {
     "name": "stdout",
     "output_type": "stream",
     "text": [
      "Enter a number6\n",
      "perfect number\n"
     ]
    }
   ],
   "source": [
    "#medium 3\n",
    "num=int(input(\"Enter a number\"))\n",
    "count=1\n",
    "div=0\n",
    "while num>count:\n",
    "    if num%count==0:\n",
    "        div=div+count\n",
    "    count+=1\n",
    "if div==num:\n",
    "    print(\"perfect number\")\n",
    "else:\n",
    "    print(\"not perfect number\")"
   ]
  },
  {
   "cell_type": "code",
   "execution_count": null,
   "metadata": {},
   "outputs": [],
   "source": [
    "#hard 1\n",
    "x=input(\"Enter number\")\n",
    "unique=\"\"\n",
    "for i in x:\n",
    "    if i not in unique:\n",
    "        unique+=i\n",
    "print(len(unique))"
   ]
  },
  {
   "cell_type": "code",
   "execution_count": null,
   "metadata": {},
   "outputs": [],
   "source": []
  }
 ],
 "metadata": {
  "kernelspec": {
   "display_name": "Python 3",
   "language": "python",
   "name": "python3"
  },
  "language_info": {
   "codemirror_mode": {
    "name": "ipython",
    "version": 3
   },
   "file_extension": ".py",
   "mimetype": "text/x-python",
   "name": "python",
   "nbconvert_exporter": "python",
   "pygments_lexer": "ipython3",
   "version": "3.7.6"
  }
 },
 "nbformat": 4,
 "nbformat_minor": 4
}
