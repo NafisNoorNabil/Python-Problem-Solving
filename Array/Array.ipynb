{
  "cells": [
    {
      "cell_type": "code",
      "execution_count": null,
      "metadata": {
        "colab": {
          "base_uri": "https://localhost:8080/"
        },
        "id": "n8Lno4yiQDgk",
        "outputId": "7436ff0f-2c13-4200-942e-dff75e6c402c"
      },
      "outputs": [
        {
          "name": "stdout",
          "output_type": "stream",
          "text": [
            "Odd!!\n"
          ]
        }
      ],
      "source": [
        "#Class Task 1\n",
        "\n",
        "def even_checker(num):\n",
        "  if num%2==0:\n",
        "    print(\"Even!!\")\n",
        "  else:\n",
        "    print(\"Odd!!\")\n",
        "even_checker(17)\n",
        "\n",
        "\n",
        "\n",
        "\n"
      ]
    },
    {
      "cell_type": "code",
      "execution_count": null,
      "metadata": {
        "colab": {
          "base_uri": "https://localhost:8080/"
        },
        "id": "HmgWgkMhQFcC",
        "outputId": "5e8f3a33-5812-4198-eb6f-ede061d375cc"
      },
      "outputs": [
        {
          "name": "stdout",
          "output_type": "stream",
          "text": [
            "False\n"
          ]
        }
      ],
      "source": [
        "def is_even(num):\n",
        "  if num%2==0:\n",
        "    return True\n",
        "  else:\n",
        "    return False\n",
        "\n",
        "result = is_even(13)\n",
        "print(result)"
      ]
    },
    {
      "cell_type": "code",
      "execution_count": null,
      "metadata": {
        "colab": {
          "base_uri": "https://localhost:8080/"
        },
        "id": "-qxcISKaQFZa",
        "outputId": "1b7abb9d-e8a5-462b-fae0-ed411f485a75"
      },
      "outputs": [
        {
          "name": "stdout",
          "output_type": "stream",
          "text": [
            "True\n"
          ]
        }
      ],
      "source": [
        "def is_pos(num):\n",
        "  if num>0:\n",
        "    return True\n",
        "  else:\n",
        "    return False\n",
        "\n",
        "result = is_pos(10)\n",
        "print( result )\n"
      ]
    },
    {
      "cell_type": "code",
      "execution_count": null,
      "metadata": {
        "colab": {
          "base_uri": "https://localhost:8080/"
        },
        "id": "lqROq_TSQFWy",
        "outputId": "a08422ed-7883-4a86-9053-6372c6919a0f"
      },
      "outputs": [
        {
          "name": "stdout",
          "output_type": "stream",
          "text": [
            "-9\n",
            "-7\n",
            "-5\n",
            "-3\n",
            "-1\n"
          ]
        }
      ],
      "source": [
        "def sequence(n):\n",
        "  if n>0:\n",
        "    for i in range(0,n+1):\n",
        "      if i%2==0:\n",
        "        print(i)\n",
        "  else:\n",
        "    for i in range(n,0):\n",
        "      if i%2!=0:\n",
        "        print(i)\n",
        "\n",
        "\n",
        "sequence(-10)"
      ]
    },
    {
      "cell_type": "code",
      "execution_count": null,
      "metadata": {
        "colab": {
          "base_uri": "https://localhost:8080/"
        },
        "id": "s0M9HfMTQFUa",
        "outputId": "80bb9710-f4f5-413c-abba-73c1733d982b"
      },
      "outputs": [
        {
          "name": "stdout",
          "output_type": "stream",
          "text": [
            "False\n"
          ]
        }
      ],
      "source": [
        "def is_valid_triangle(x,y,z):\n",
        "  if x+y>z and y+z>x and z+x>y:\n",
        "    return True\n",
        "  else:\n",
        "    return False\n",
        "\n",
        "result=is_valid_triangle(3,2,1)\n",
        "print( result )\n"
      ]
    },
    {
      "cell_type": "code",
      "execution_count": null,
      "metadata": {
        "colab": {
          "base_uri": "https://localhost:8080/"
        },
        "id": "0rtovldxQFR6",
        "outputId": "a5cca311-9bc8-44f7-99e0-61bb8a73383c"
      },
      "outputs": [
        {
          "name": "stdout",
          "output_type": "stream",
          "text": [
            "16.24807680927192\n"
          ]
        }
      ],
      "source": [
        "import math\n",
        "def tri_area(x,y,z):\n",
        "  if x+y>z and y+z>x and z+x>y:\n",
        "    s=(x+y+z)/2\n",
        "    area=math.sqrt(s*(s-x)*(s-y)*(s-z))\n",
        "    return area\n",
        "  else:\n",
        "    print(\"Can’t form triangle\")\n",
        "\n",
        "result=tri_area(7,5,10)\n",
        "print( result )\n",
        "\n"
      ]
    },
    {
      "cell_type": "code",
      "execution_count": null,
      "metadata": {
        "colab": {
          "base_uri": "https://localhost:8080/"
        },
        "id": "GZ0NLje1QFPb",
        "outputId": "b83223ed-5854-4bba-ff93-5bbbd1340a8c"
      },
      "outputs": [
        {
          "name": "stdout",
          "output_type": "stream",
          "text": [
            "78.53981633974483\n"
          ]
        }
      ],
      "source": [
        "import math\n",
        "\n",
        "\n",
        "def circle(r):\n",
        "  area= math.pi*(r**2)\n",
        "  return area\n",
        "\n",
        "print(circle(5))"
      ]
    },
    {
      "cell_type": "code",
      "execution_count": null,
      "metadata": {
        "colab": {
          "base_uri": "https://localhost:8080/"
        },
        "id": "oO3Ptl_3QFNC",
        "outputId": "73535ee7-a479-4bf7-adb9-ba54f5468026"
      },
      "outputs": [
        {
          "name": "stdout",
          "output_type": "stream",
          "text": [
            "523.5987755982989\n"
          ]
        }
      ],
      "source": [
        "import math\n",
        "\n",
        "\n",
        "def sphere(r):\n",
        "  volume= (4*math.pi*(r**3))/3\n",
        "  return volume\n",
        "\n",
        "print(sphere(5))"
      ]
    },
    {
      "cell_type": "code",
      "execution_count": null,
      "metadata": {
        "colab": {
          "base_uri": "https://localhost:8080/"
        },
        "id": "TrhzlfE6QFKq",
        "outputId": "ae84e6be-a1a0-42ee-9eaf-0ef13e1654ec"
      },
      "outputs": [
        {
          "name": "stdout",
          "output_type": "stream",
          "text": [
            "Circle-2 can fit inside Circle-1 and 28.27433388230814 square units would be left\n"
          ]
        }
      ],
      "source": [
        "\n",
        "import math\n",
        "\n",
        "def fitting(x,y,z):\n",
        "  if z==3:\n",
        "    circle1=sphere(x/2)\n",
        "    circle2=sphere(y/2)\n",
        "    if circle1>circle2:\n",
        "      remaining=circle1-circle2\n",
        "      print(\"Circle-2 can fit inside Circle-1 and\",remaining,\"square units would be left\")\n",
        "    else:\n",
        "      remaining=circle2-circle1\n",
        "      print(\"Circle-1 can fit inside Circle-2 and\",remaining,\"square units would be left\")\n",
        "\n",
        "  elif z==2:\n",
        "    circle1=circle(x/2)\n",
        "    circle2=circle(y/2)\n",
        "    if circle1>circle2:\n",
        "      remaining=circle1-circle2\n",
        "      print(\"Circle-2 can fit inside Circle-1 and\",remaining,\"square units would be left\")\n",
        "    else:\n",
        "      remaining=circle2-circle1\n",
        "      print(\"Circle-1 can fit inside Circle-2 and\",remaining,\"square units would be left\")\n",
        "\n",
        "fitting(8,10,2)"
      ]
    },
    {
      "cell_type": "code",
      "execution_count": 21,
      "metadata": {
        "colab": {
          "base_uri": "https://localhost:8080/"
        },
        "id": "C9cDHvREQFIy",
        "outputId": "7c1ac017-a9e4-4c6b-8a12-a18933d1b8b2"
      },
      "outputs": [
        {
          "name": "stdout",
          "output_type": "stream",
          "text": [
            "True\n"
          ]
        }
      ],
      "source": [
        "#Home Task 1\n",
        "def is_prime(n):\n",
        "    if n <= 1:\n",
        "        return False\n",
        "    for i in range(2,n):\n",
        "        if n%i==0:\n",
        "            return False\n",
        "    return True\n",
        "prime_check = is_prime(5)\n",
        "print(prime_check)\n"
      ]
    },
    {
      "cell_type": "code",
      "execution_count": 16,
      "metadata": {
        "colab": {
          "base_uri": "https://localhost:8080/"
        },
        "id": "AvdvZt2lQGda",
        "outputId": "7f3f0efd-a3ba-4905-a93e-13f8c7f5aa26"
      },
      "outputs": [
        {
          "name": "stdout",
          "output_type": "stream",
          "text": [
            "True\n"
          ]
        }
      ],
      "source": [
        "def is_perfect(n):\n",
        "  sum=0\n",
        "  for i in range(1,n):\n",
        "    if n%i==0:\n",
        "      sum=sum+i\n",
        "\n",
        "  if sum==n:\n",
        "    return True\n",
        "  else:\n",
        "    return False\n",
        "\n",
        "\n",
        "perfect_check = is_perfect(6)\n",
        "print(perfect_check)"
      ]
    },
    {
      "cell_type": "code",
      "execution_count": 23,
      "metadata": {
        "colab": {
          "base_uri": "https://localhost:8080/"
        },
        "id": "ZpfDqytNQGbD",
        "outputId": "46227acf-6df2-42be-f4d3-b18124c7d23e"
      },
      "outputs": [
        {
          "name": "stdout",
          "output_type": "stream",
          "text": [
            "23\n"
          ]
        }
      ],
      "source": [
        "\n",
        "def special_sum(n):\n",
        "  sum=0\n",
        "  for i in range(2,n):\n",
        "    if is_prime(i):\n",
        "      sum=sum+i\n",
        "    elif is_perfect(i):\n",
        "      sum=sum+i\n",
        "  return sum\n",
        "\n",
        "result = special_sum(8)\n",
        "print(result)\n"
      ]
    },
    {
      "cell_type": "code",
      "execution_count": 53,
      "metadata": {
        "colab": {
          "base_uri": "https://localhost:8080/"
        },
        "id": "9oG0aCWsQGYq",
        "outputId": "6d9edf7c-9da3-49d5-eeb2-980192b614fb"
      },
      "outputs": [
        {
          "name": "stdout",
          "output_type": "stream",
          "text": [
            "....."
          ]
        }
      ],
      "source": [
        "#Home Task 2\n",
        "def show_dots(n):\n",
        "  for i in range(0,n):\n",
        "    print(\".\",end=\"\")\n",
        "show_dots(5)"
      ]
    },
    {
      "cell_type": "code",
      "execution_count": 35,
      "metadata": {
        "colab": {
          "base_uri": "https://localhost:8080/"
        },
        "id": "oyAT19OWQGWa",
        "outputId": "a29c1843-87d0-4560-bc2d-f9ab92abc232"
      },
      "outputs": [
        {
          "name": "stdout",
          "output_type": "stream",
          "text": [
            "123454321"
          ]
        }
      ],
      "source": [
        "#Home Task 2\n",
        "def show_palindrome(n):\n",
        "  for i in range(1,n+1):\n",
        "    print(i,end=\"\")\n",
        "  for i in range(n-1,0,-1):\n",
        "    print(i,end=\"\")\n",
        "show_palindrome(5)"
      ]
    },
    {
      "cell_type": "code",
      "execution_count": 55,
      "metadata": {
        "colab": {
          "base_uri": "https://localhost:8080/"
        },
        "id": "2o6GvBHjQGUC",
        "outputId": "f227a6ea-0cea-404b-b400-8d9313811ef0"
      },
      "outputs": [
        {
          "name": "stdout",
          "output_type": "stream",
          "text": [
            "....1....\n",
            "\n",
            "...121...\n",
            "\n",
            "..12321..\n",
            "\n",
            ".1234321.\n",
            "\n",
            "123454321\n",
            "\n"
          ]
        }
      ],
      "source": [
        "def show_triangle(n):\n",
        "  for i in range(1,n+1):\n",
        "    show_dots(n-i)\n",
        "    show_palindrome(i)\n",
        "    show_dots(n-i)\n",
        "    print(\"\\n\")\n",
        "\n",
        "  # show_dots(n-1)\n",
        "\n",
        "\n",
        "\n",
        "\n",
        "show_triangle(5)"
      ]
    },
    {
      "cell_type": "code",
      "execution_count": 3,
      "metadata": {
        "colab": {
          "base_uri": "https://localhost:8080/"
        },
        "id": "-sd2gCCzD3A-",
        "outputId": "28e12b3f-d95d-4a54-aac5-a3426e4cbdf8"
      },
      "outputs": [
        {
          "name": "stdout",
          "output_type": "stream",
          "text": [
            "1260\n"
          ]
        }
      ],
      "source": [
        "#Home Task 3\n",
        "\n",
        "def calc_tax(age,income):\n",
        "    if age<18 or income<10000:\n",
        "        return 0\n",
        "    elif 10000<=income<=20000:\n",
        "        return int(0.07*income)\n",
        "    else:\n",
        "        return int(0.14*income)\n",
        "t = calc_tax(20,18000)\n",
        "print(t)"
      ]
    },
    {
      "cell_type": "code",
      "execution_count": null,
      "metadata": {},
      "outputs": [],
      "source": [
        "def calc_yearly_tax():\n",
        "  age=int(input(\"Enter Age: \"))\n",
        "  for i in range(1,13):\n",
        "    income=int(input(\"Enter income: \"))\n",
        "    tax=calc_tax(age,income)\n",
        "    print(\"Month\",i,\"tax:\",tax)\n",
        "\n",
        "\n",
        "calc_yearly_tax()"
      ]
    },
    {
      "cell_type": "code",
      "execution_count": 73,
      "metadata": {
        "colab": {
          "base_uri": "https://localhost:8080/"
        },
        "id": "C9NaSvS1D28t",
        "outputId": "c32379c6-8578-47fa-93fe-13d02dba5a16"
      },
      "outputs": [
        {
          "name": "stdout",
          "output_type": "stream",
          "text": [
            "54321\n"
          ]
        }
      ],
      "source": [
        "def reverse_digits(n):\n",
        "    if n < 10:\n",
        "        print(n)\n",
        "    else:\n",
        "        print(n % 10, end='')\n",
        "        reverse_digits(n // 10)\n",
        "\n",
        "reverse_digits(12345)\n",
        "\n"
      ]
    },
    {
      "cell_type": "code",
      "execution_count": 111,
      "metadata": {
        "colab": {
          "base_uri": "https://localhost:8080/"
        },
        "id": "9BNTbv_eD261",
        "outputId": "344001bd-cd06-417d-978c-a6a0f3d4aece"
      },
      "outputs": [
        {
          "name": "stdout",
          "output_type": "stream",
          "text": [
            "4321"
          ]
        }
      ],
      "source": [
        "#home task 4\n",
        "def reverse_digits(n):\n",
        "  if n < 10:\n",
        "    print(n, end='')\n",
        "  else:\n",
        "    print(n % 10, end='')\n",
        "    reverse_digits(n//10)\n",
        "\n",
        "reverse_digits(1234)"
      ]
    },
    {
      "cell_type": "code",
      "execution_count": null,
      "metadata": {
        "id": "rbggaQtfD24V"
      },
      "outputs": [],
      "source": []
    },
    {
      "cell_type": "code",
      "execution_count": null,
      "metadata": {
        "id": "eMBKvpteHYqV"
      },
      "outputs": [],
      "source": []
    },
    {
      "cell_type": "code",
      "execution_count": null,
      "metadata": {
        "id": "gC-ZMSqmHYn8"
      },
      "outputs": [],
      "source": []
    },
    {
      "cell_type": "code",
      "execution_count": null,
      "metadata": {
        "id": "xdmnAAnvHYlm"
      },
      "outputs": [],
      "source": []
    },
    {
      "cell_type": "code",
      "execution_count": 87,
      "metadata": {
        "colab": {
          "base_uri": "https://localhost:8080/"
        },
        "id": "uk5QK7zDHYjT",
        "outputId": "0896ab4a-9b9f-451b-e331-18ec5354f25f"
      },
      "outputs": [
        {
          "name": "stdout",
          "output_type": "stream",
          "text": [
            "1 2 3 4 5 6 7 8 9 10 11 "
          ]
        }
      ],
      "source": [
        "#class task 5\n",
        "\n",
        "n=int(input(\"Enter number\"))\n",
        "def one_to_N(start,stop):\n",
        "  if start>stop:\n",
        "    return\n",
        "\n",
        "  print(start,end=\" \")\n",
        "  one_to_N(start+1,stop)\n",
        "\n",
        "\n",
        "one_to_N(1,n)"
      ]
    },
    {
      "cell_type": "code",
      "execution_count": 101,
      "metadata": {
        "colab": {
          "base_uri": "https://localhost:8080/"
        },
        "id": "XkX5YlARHYhE",
        "outputId": "01b7410f-f268-491f-a458-2843941f22f4"
      },
      "outputs": [
        {
          "name": "stdout",
          "output_type": "stream",
          "text": [
            "Enter number6\n",
            "6 5 4 3 2 1 None\n"
          ]
        }
      ],
      "source": [
        "\n",
        "n=int(input(\"Enter number\"))\n",
        "def one_to_N(start,stop):\n",
        "  if stop<start:\n",
        "    return\n",
        "  print(stop, end=\" \")\n",
        "\n",
        "  one_to_N(start,stop-1)\n",
        "one_to_N(1,n)\n"
      ]
    },
    {
      "cell_type": "code",
      "execution_count": 105,
      "metadata": {
        "colab": {
          "base_uri": "https://localhost:8080/"
        },
        "id": "58BguNnNLPnb",
        "outputId": "34ec8271-7267-4960-fcb8-c7e314c403d4"
      },
      "outputs": [
        {
          "name": "stdout",
          "output_type": "stream",
          "text": [
            "Enter number4\n"
          ]
        },
        {
          "data": {
            "text/plain": [
              "10"
            ]
          },
          "execution_count": 105,
          "metadata": {},
          "output_type": "execute_result"
        }
      ],
      "source": [
        "n=int(input(\"Enter number\"))\n",
        "def one_to_N(start,stop):\n",
        "  if start>stop:\n",
        "    return 0\n",
        "\n",
        "  return start+ one_to_N(start+1,stop)\n",
        "\n",
        "\n",
        "one_to_N(1,n)"
      ]
    },
    {
      "cell_type": "code",
      "execution_count": null,
      "metadata": {
        "id": "I0TR8AAQLPhz"
      },
      "outputs": [],
      "source": []
    },
    {
      "cell_type": "code",
      "execution_count": null,
      "metadata": {
        "id": "bEtGdCgTLPfc"
      },
      "outputs": [],
      "source": []
    },
    {
      "cell_type": "code",
      "execution_count": null,
      "metadata": {
        "id": "G5XeFNUWLPdD"
      },
      "outputs": [],
      "source": []
    }
  ],
  "metadata": {
    "colab": {
      "provenance": []
    },
    "kernelspec": {
      "display_name": "Python 3",
      "name": "python3"
    },
    "language_info": {
      "codemirror_mode": {
        "name": "ipython",
        "version": 3
      },
      "file_extension": ".py",
      "mimetype": "text/x-python",
      "name": "python",
      "nbconvert_exporter": "python",
      "pygments_lexer": "ipython3",
      "version": "3.11.4"
    }
  },
  "nbformat": 4,
  "nbformat_minor": 0
}
