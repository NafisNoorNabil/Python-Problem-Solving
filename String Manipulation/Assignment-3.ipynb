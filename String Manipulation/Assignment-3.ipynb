{
 "cells": [
  {
   "cell_type": "code",
   "execution_count": null,
   "metadata": {},
   "outputs": [],
   "source": [
    "#Easy 1\n",
    "x=input(\"Enter String:\")\n",
    "y=(\"a\",\"e\",\"i\",\"o\",\"u\",\"A\",\"E\",\"I\",\"O\",\"U\")\n",
    "z=\"\"\n",
    "count=0\n",
    "for i in x:\n",
    "    if i in y:\n",
    "        count+=1\n",
    "    else:\n",
    "        z+=i\n",
    "print(z+str(count))"
   ]
  },
  {
   "cell_type": "code",
   "execution_count": null,
   "metadata": {},
   "outputs": [],
   "source": [
    "#Easy 2\n",
    "name=input()\n",
    "reverse=name[::-1]\n",
    "if name==reverse:\n",
    "    print(\"Palindrome\")\n",
    "else:\n",
    "    print(\"Not a Palindrome\")"
   ]
  },
  {
   "cell_type": "code",
   "execution_count": 1,
   "metadata": {},
   "outputs": [
    {
     "name": "stdout",
     "output_type": "stream",
     "text": [
      "Enter String:wonder\n",
      "wonderful\n"
     ]
    }
   ],
   "source": [
    "#Easy 3\n",
    "x=input(\"Enter String:\")\n",
    "y=len(x)\n",
    "if y>=4:\n",
    "    if x[-3:]==\"ful\":\n",
    "        x+=\"ly\"\n",
    "        print(x)\n",
    "    else:\n",
    "        x+=\"ful\"\n",
    "        print(x)\n",
    "else:\n",
    "    print(x)\n"
   ]
  },
  {
   "cell_type": "code",
   "execution_count": null,
   "metadata": {},
   "outputs": [],
   "source": [
    "#Medium 1\n",
    "x=input(\"enter string:\")\n",
    "upcount=0\n",
    "lowcount=0\n",
    "for i in x:\n",
    "    if i.isupper():\n",
    "        upcount+=1\n",
    "    elif i.islower():\n",
    "        lowcount+=1\n",
    "if upcount>lowcount:\n",
    "    print(x.upper())\n",
    "elif lowcount>=upcount:\n",
    "    print(x.lower())"
   ]
  },
  {
   "cell_type": "code",
   "execution_count": null,
   "metadata": {},
   "outputs": [],
   "source": [
    "#Medium 2\n",
    "x=input(\"enter string:\")\n",
    "count=0\n",
    "for i in x:\n",
    "    if i.isdigit():\n",
    "        count+=1\n",
    "if count==len(x):\n",
    "    print(\"NUMBER\")\n",
    "elif count>0:\n",
    "    print(\"MIXED\")\n",
    "elif count==0:\n",
    "    print(\"WORD\")"
   ]
  },
  {
   "cell_type": "code",
   "execution_count": null,
   "metadata": {},
   "outputs": [],
   "source": [
    "#Medium 3\n",
    "x=input(\"Enter string:\")\n",
    "count1=0\n",
    "count2=0\n",
    "for i in range(len(x)-1):\n",
    "    if x[i].isupper():\n",
    "        count1=i\n",
    "        break\n",
    "for i in range(count1+1,len(x)-1):\n",
    "    if x[i].isupper():\n",
    "        count2=i\n",
    "        break\n",
    "if count1+1==count2:\n",
    "    print(\"BLANK\")\n",
    "else:\n",
    "    print(x[count1+1:count2])\n",
    "        \n",
    "    "
   ]
  },
  {
   "cell_type": "code",
   "execution_count": null,
   "metadata": {},
   "outputs": [],
   "source": [
    "#Medium 4\n",
    "x=input(\"Enter String:\")\n",
    "if \"too good\" in x:\n",
    "    print(x.replace(\"too good\",\"excellent\"))\n",
    "else:\n",
    "    print(x)\n"
   ]
  },
  {
   "cell_type": "code",
   "execution_count": null,
   "metadata": {},
   "outputs": [],
   "source": [
    "#Hard 1\n",
    "str1=input(\"Enter string:\")\n",
    "str2=input(\"Enter another string:\")\n",
    "x=\"\"\n",
    "y=\"\"\n",
    "for i in str1:\n",
    "    if i in str2:\n",
    "        x+=i\n",
    "for i in str2:\n",
    "    if i in str1:\n",
    "        y+=i\n",
    "if x==\"\" and y==\"\":\n",
    "    print(\"Nothing in common\")\n",
    "elif x or y!=\"\":\n",
    "    print(x+y)"
   ]
  },
  {
   "cell_type": "code",
   "execution_count": null,
   "metadata": {},
   "outputs": [],
   "source": [
    "#Hard 2\n",
    "x=input(\"Enter string:\")\n",
    "y=input(\"Enter substring:\")\n",
    "count=x.count(y)\n",
    "if x.startswith(y):\n",
    "    if x.endswith(y):\n",
    "        if count==3:\n",
    "            print(y)\n",
    "else:\n",
    "    print(\"Not Palindrome Substring\")          "
   ]
  },
  {
   "cell_type": "code",
   "execution_count": null,
   "metadata": {},
   "outputs": [],
   "source": [
    "#Hard 3\n",
    "x=input(\"Enter Password:\")\n",
    "lower=0\n",
    "upper=0\n",
    "digit=0\n",
    "special=0\n",
    "list=[]\n",
    "for i in x:\n",
    "    if i.islower():\n",
    "        lower+=1\n",
    "if lower==0:\n",
    "    list.append(\"Lowercase Missing\")\n",
    "for i in x:\n",
    "    if i.isupper():\n",
    "        upper+=1\n",
    "if upper==0:\n",
    "    list.append(\"Uppercase Missing\")\n",
    "for i in x:\n",
    "    if i.isdigit():\n",
    "        digit+=1\n",
    "if digit==0:\n",
    "    list.append(\"Digit Missing\")\n",
    "for i in x:\n",
    "    if i==\"_\" or i==\"$\" or i==\"#\" or i==\"@\":\n",
    "        special+=1\n",
    "if special==0:\n",
    "    list.append(\"Special Missing\")\n",
    "if list!=[]:\n",
    "    print(\",\".join(list))\n",
    "if lower>0 and upper>0 and digit>0 and special>0:\n",
    "    print(\"OK\")"
   ]
  }
 ],
 "metadata": {
  "kernelspec": {
   "display_name": "Python 3",
   "language": "python",
   "name": "python3"
  },
  "language_info": {
   "codemirror_mode": {
    "name": "ipython",
    "version": 3
   },
   "file_extension": ".py",
   "mimetype": "text/x-python",
   "name": "python",
   "nbconvert_exporter": "python",
   "pygments_lexer": "ipython3",
   "version": "3.7.6"
  }
 },
 "nbformat": 4,
 "nbformat_minor": 4
}
