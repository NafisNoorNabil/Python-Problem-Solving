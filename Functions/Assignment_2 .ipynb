{
  "cells": [
    {
      "cell_type": "code",
      "execution_count": null,
      "metadata": {
        "id": "Yl1VNEwk7Tiz",
        "outputId": "f67ea8ef-bcb4-4398-d65f-60edbae30875"
      },
      "outputs": [
        {
          "name": "stdout",
          "output_type": "stream",
          "text": [
            "5\n",
            "2\n",
            "0.5\n"
          ]
        }
      ],
      "source": [
        "#easy 1\n",
        "def divideFunction(num1,num2):\n",
        "    if num2==0 or num1==0:\n",
        "        return 0\n",
        "    else:\n",
        "        return (num1/num2)-(num1//num2)\n",
        "num1=int(input())\n",
        "num2=int(input())\n",
        "print(divideFunction(num1,num2))"
      ]
    },
    {
      "cell_type": "code",
      "execution_count": null,
      "metadata": {
        "id": "iInVR5jk7Ti1"
      },
      "outputs": [],
      "source": [
        "#easy 2\n",
        "def bmiCal(height,weight):\n",
        "    x=height/100\n",
        "    bmi=weight/(x*x)\n",
        "    return bmi\n",
        "height=int(input())\n",
        "weight=int(input())\n",
        "x=bmiCal(height,weight)\n",
        "print(\"Score is\",x,\"you are \",end=\"\")\n",
        "if(x<18.5):\n",
        "    print(\"unerweight\")\n",
        "elif(x>=18.6 and x<=24.9):\n",
        "    print(\"normal\")\n",
        "elif(x>=25 and x<=30):\n",
        "    print(\"overweight\")\n",
        "else:\n",
        "    print(\"obese\")\n"
      ]
    },
    {
      "cell_type": "code",
      "execution_count": null,
      "metadata": {
        "id": "AvDGOZYJ7Ti1"
      },
      "outputs": [],
      "source": [
        "#easy 3\n",
        "def value (minimum,maximum,divisor):\n",
        "    sum=0\n",
        "    for i in range(minimum,maximum,1):\n",
        "        if(i%divisor==0):\n",
        "            sum=sum+i\n",
        "    return sum\n",
        "minimum=int(input())\n",
        "maximum=int(input())\n",
        "divisor=int(input())\n",
        "print value()"
      ]
    },
    {
      "cell_type": "code",
      "execution_count": null,
      "metadata": {
        "id": "7z5lMMsH7Ti1"
      },
      "outputs": [],
      "source": [
        "#medium 1\n",
        "def order(name,place=\"Mohakhali\"):\n",
        "    meal=0\n",
        "    delivery=40\n",
        "    tax=0\n",
        "    if place!=\"Mohakhali\":\n",
        "        delivery=60\n",
        "    if name==\"BBQ Chicken Cheese Burger\":\n",
        "        meal=meal+250\n",
        "    elif name==\"Beef Burger\":\n",
        "        meal=meal+170\n",
        "    elif name==\"Naga Drums\":\n",
        "        meal=meal+200\n",
        "    tax=meal*(8/100)\n",
        "    total=meal+delivery+tax\n",
        "    return total\n",
        "print(order(\"Beef Burger\",\"Dhanmondi\"))\n",
        "print(order(\"Beef Burger\"))\n"
      ]
    },
    {
      "cell_type": "code",
      "execution_count": null,
      "metadata": {
        "id": "zebuykqP7Ti2"
      },
      "outputs": [],
      "source": [
        "#medium 2\n",
        "def replace_domain(email,new,old=\"kaaj.com\"):\n",
        "        email=email.split(\"@\")\n",
        "        new=email[0]+\"@\"+new\n",
        "        return new\n",
        "print(replace_domain(\"alice@kaaj.com\",\"sheba.xyz\",\"kaaj.com\"))\n",
        "print(replace_domain(\"bob@sheba.xyz\",\"sheba.xyz\"))"
      ]
    },
    {
      "cell_type": "code",
      "execution_count": null,
      "metadata": {
        "id": "zVt-fLR47Ti2"
      },
      "outputs": [],
      "source": [
        "#medium 3\n",
        "def vowelcount(name):\n",
        "    count=0\n",
        "    letter=\"\"\n",
        "    for i in name:\n",
        "        if i==\"a\" or i==\"e\" or i==\"i\" or i==\"o\" or i==\"u\" or i==\"A\" or i==\"E\" or i==\"I\" or i==\"O\" or i==\"U\":\n",
        "            count+=1\n",
        "            letter=letter+i+\",\"\n",
        "    if count==0:\n",
        "     return print(\"no vowels\")\n",
        "\n",
        "    x=print(\"vowels:\"+letter +\" Total number of vowels:\",count)\n",
        "    return x\n",
        "vowelcount(\"Steve Jobs\")\n",
        "vowelcount(\"XYZ\")\n",
        ""
      ]
    },
    {
      "cell_type": "code",
      "execution_count": null,
      "metadata": {
        "id": "NpShPqrc7Ti2"
      },
      "outputs": [],
      "source": [
        "#medium 4\n",
        "name=input()\n",
        "def reverseName(name):\n",
        "    return name[::-1]\n",
        "if name==reverseName(name):\n",
        "    print(\"Palindrome\")\n",
        "else:\n",
        "    print(\"Not a Palindrome\")"
      ]
    },
    {
      "cell_type": "code",
      "execution_count": null,
      "metadata": {
        "id": "u7pEh0ag7Ti2"
      },
      "outputs": [],
      "source": [
        "#hard 2\n",
        "def time(days):\n",
        "    years=days//365\n",
        "    months=(days%365)//30\n",
        "    days=(days%365)%30\n",
        "    print(str(years)+\" years, \"+str(months)+\" months and \"+str(days)+\" days\")\n",
        "time (int(input(\"days:\")))"
      ]
    }
  ],
  "metadata": {
    "kernelspec": {
      "display_name": "Python 3",
      "language": "python",
      "name": "python3"
    },
    "language_info": {
      "codemirror_mode": {
        "name": "ipython",
        "version": 3
      },
      "file_extension": ".py",
      "mimetype": "text/x-python",
      "name": "python",
      "nbconvert_exporter": "python",
      "pygments_lexer": "ipython3",
      "version": "3.7.6"
    },
    "colab": {
      "provenance": []
    }
  },
  "nbformat": 4,
  "nbformat_minor": 0
}