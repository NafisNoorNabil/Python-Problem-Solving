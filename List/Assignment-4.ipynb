{
 "cells": [
  {
   "cell_type": "code",
   "execution_count": 1,
   "metadata": {},
   "outputs": [
    {
     "name": "stdout",
     "output_type": "stream",
     "text": [
      "enter number:1\n",
      "enter number:2\n",
      "enter number:3\n",
      "enter number:4\n",
      "enter number:5\n",
      "enter number:6\n",
      "enter number:7\n",
      "enter number:8\n",
      "enter number:9\n",
      "enter number:10\n",
      "['10', '9', '8', '7', '6', '5', '4', '3', '2', '1']\n"
     ]
    }
   ],
   "source": [
    "#Easy 1\n",
    "numlist=[]\n",
    "for i in range(0,10):\n",
    "    x=input(\"enter number:\")\n",
    "    numlist.append(x)\n",
    "numlist.reverse()\n",
    "print(numlist)\n"
   ]
  },
  {
   "cell_type": "code",
   "execution_count": null,
   "metadata": {},
   "outputs": [],
   "source": [
    "#Easy 2\n",
    "list1=[1,3,5,7,9,10]\n",
    "list2=[2,4,6,8]\n",
    "list1.pop()\n",
    "list1.extend(list2)\n",
    "print(list1)"
   ]
  },
  {
   "cell_type": "code",
   "execution_count": null,
   "metadata": {},
   "outputs": [],
   "source": [
    "#Easy 3\n",
    "list=[]\n",
    "for i in range(0,10):\n",
    "    x=input(\"Enter number:\")\n",
    "    if x in list:\n",
    "        x=input(\"Enter another number\")\n",
    "        list.append(x)\n",
    "    else:\n",
    "        list.append(x)\n",
    "print(list)\n",
    "    \n",
    "    "
   ]
  },
  {
   "cell_type": "code",
   "execution_count": null,
   "metadata": {},
   "outputs": [],
   "source": [
    "#Medium 1\n",
    "list=[]\n",
    "x=input(\"Enter number:\")\n",
    "list.append(x)\n",
    "while x!=\"STOP\":\n",
    "    x=input(\"Enter number:\")\n",
    "    if x==\"STOP\":\n",
    "        break\n",
    "    else:\n",
    "        list.append(x)\n",
    "for i in range(len(list)):\n",
    "    count=1\n",
    "    if list[i]!=\"\":\n",
    "        for j in range(i+1,len(list)) :\n",
    "            if list[i]==list[j] and list[j]!=\"\":\n",
    "                list.pop(j)\n",
    "                list.insert(j, \"\")\n",
    "                count+=1\n",
    "    if list[i]!=\"\":\n",
    "        print(list[i],\"-\",count,\"times\")        \n",
    "        "
   ]
  },
  {
   "cell_type": "code",
   "execution_count": null,
   "metadata": {},
   "outputs": [],
   "source": [
    "#Medium 3\n",
    "list1=[2,3,6]\n",
    "list2=[3,4,5]\n",
    "multi=[]\n",
    "for i in list1:\n",
    "    for a in list2:\n",
    "        multi.append(i*a)\n",
    "print(multi)"
   ]
  }
 ],
 "metadata": {
  "kernelspec": {
   "display_name": "Python 3",
   "language": "python",
   "name": "python3"
  },
  "language_info": {
   "codemirror_mode": {
    "name": "ipython",
    "version": 3
   },
   "file_extension": ".py",
   "mimetype": "text/x-python",
   "name": "python",
   "nbconvert_exporter": "python",
   "pygments_lexer": "ipython3",
   "version": "3.7.6"
  }
 },
 "nbformat": 4,
 "nbformat_minor": 4
}
